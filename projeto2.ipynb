{
 "cells": [
  {
   "cell_type": "markdown",
   "id": "c08e82e1",
   "metadata": {},
   "source": [
    "# PROJETO 2\n"
   ]
  },
  {
   "cell_type": "code",
   "execution_count": 1,
   "id": "11939a9c",
   "metadata": {},
   "outputs": [
    {
     "name": "stderr",
     "output_type": "stream",
     "text": [
      "/opt/anaconda3/lib/python3.12/site-packages/sklearn/experimental/enable_hist_gradient_boosting.py:16: UserWarning: Since version 1.0, it is not needed to import enable_hist_gradient_boosting anymore. HistGradientBoostingClassifier and HistGradientBoostingRegressor are now stable and can be normally imported from sklearn.ensemble.\n",
      "  warnings.warn(\n"
     ]
    }
   ],
   "source": [
    "import pandas as pd\n",
    "import numpy as np\n",
    "import seaborn as sns\n",
    "import matplotlib.pyplot as plt\n",
    "from sklearn.model_selection import train_test_split\n",
    "from sklearn.metrics import accuracy_score, f1_score, confusion_matrix, ConfusionMatrixDisplay\n",
    "from sklearn.metrics import mean_squared_error, r2_score\n",
    "from sklearn.linear_model import LogisticRegression\n",
    "from sklearn.ensemble import RandomForestClassifier, GradientBoostingClassifier\n",
    "from sklearn.experimental import enable_hist_gradient_boosting \n",
    "from sklearn.ensemble import HistGradientBoostingClassifier"
   ]
  },
  {
   "cell_type": "code",
   "execution_count": 2,
   "id": "4c896268",
   "metadata": {},
   "outputs": [
    {
     "data": {
      "text/html": [
       "<div>\n",
       "<style scoped>\n",
       "    .dataframe tbody tr th:only-of-type {\n",
       "        vertical-align: middle;\n",
       "    }\n",
       "\n",
       "    .dataframe tbody tr th {\n",
       "        vertical-align: top;\n",
       "    }\n",
       "\n",
       "    .dataframe thead th {\n",
       "        text-align: right;\n",
       "    }\n",
       "</style>\n",
       "<table border=\"1\" class=\"dataframe\">\n",
       "  <thead>\n",
       "    <tr style=\"text-align: right;\">\n",
       "      <th></th>\n",
       "      <th>recommendation_id</th>\n",
       "      <th>user_id</th>\n",
       "      <th>movie_id</th>\n",
       "      <th>recommendation_date</th>\n",
       "      <th>recommendation_type</th>\n",
       "      <th>recommendation_score</th>\n",
       "      <th>was_clicked</th>\n",
       "      <th>position_in_list</th>\n",
       "      <th>device_type</th>\n",
       "      <th>time_of_day</th>\n",
       "      <th>algorithm_version</th>\n",
       "    </tr>\n",
       "  </thead>\n",
       "  <tbody>\n",
       "    <tr>\n",
       "      <th>0</th>\n",
       "      <td>rec_000001</td>\n",
       "      <td>user_06326</td>\n",
       "      <td>movie_0771</td>\n",
       "      <td>2025-07-03</td>\n",
       "      <td>new_releases</td>\n",
       "      <td>NaN</td>\n",
       "      <td>False</td>\n",
       "      <td>10</td>\n",
       "      <td>Tablet</td>\n",
       "      <td>evening</td>\n",
       "      <td>v1.4</td>\n",
       "    </tr>\n",
       "    <tr>\n",
       "      <th>1</th>\n",
       "      <td>rec_000002</td>\n",
       "      <td>user_02180</td>\n",
       "      <td>movie_0985</td>\n",
       "      <td>2024-11-07</td>\n",
       "      <td>genre_based</td>\n",
       "      <td>0.916</td>\n",
       "      <td>False</td>\n",
       "      <td>9</td>\n",
       "      <td>Mobile</td>\n",
       "      <td>evening</td>\n",
       "      <td>v1.4</td>\n",
       "    </tr>\n",
       "    <tr>\n",
       "      <th>2</th>\n",
       "      <td>rec_000003</td>\n",
       "      <td>user_03535</td>\n",
       "      <td>movie_0834</td>\n",
       "      <td>2024-08-22</td>\n",
       "      <td>personalized</td>\n",
       "      <td>0.816</td>\n",
       "      <td>False</td>\n",
       "      <td>2</td>\n",
       "      <td>Tablet</td>\n",
       "      <td>evening</td>\n",
       "      <td>v1.4</td>\n",
       "    </tr>\n",
       "    <tr>\n",
       "      <th>3</th>\n",
       "      <td>rec_000004</td>\n",
       "      <td>user_05025</td>\n",
       "      <td>movie_0718</td>\n",
       "      <td>2024-04-12</td>\n",
       "      <td>trending</td>\n",
       "      <td>0.771</td>\n",
       "      <td>False</td>\n",
       "      <td>16</td>\n",
       "      <td>Mobile</td>\n",
       "      <td>evening</td>\n",
       "      <td>v1.2</td>\n",
       "    </tr>\n",
       "    <tr>\n",
       "      <th>4</th>\n",
       "      <td>rec_000005</td>\n",
       "      <td>user_06794</td>\n",
       "      <td>movie_0718</td>\n",
       "      <td>2025-10-30</td>\n",
       "      <td>similar_users</td>\n",
       "      <td>0.251</td>\n",
       "      <td>False</td>\n",
       "      <td>9</td>\n",
       "      <td>Tablet</td>\n",
       "      <td>evening</td>\n",
       "      <td>v1.3</td>\n",
       "    </tr>\n",
       "  </tbody>\n",
       "</table>\n",
       "</div>"
      ],
      "text/plain": [
       "  recommendation_id     user_id    movie_id recommendation_date  \\\n",
       "0        rec_000001  user_06326  movie_0771          2025-07-03   \n",
       "1        rec_000002  user_02180  movie_0985          2024-11-07   \n",
       "2        rec_000003  user_03535  movie_0834          2024-08-22   \n",
       "3        rec_000004  user_05025  movie_0718          2024-04-12   \n",
       "4        rec_000005  user_06794  movie_0718          2025-10-30   \n",
       "\n",
       "  recommendation_type  recommendation_score  was_clicked  position_in_list  \\\n",
       "0        new_releases                   NaN        False                10   \n",
       "1         genre_based                 0.916        False                 9   \n",
       "2        personalized                 0.816        False                 2   \n",
       "3            trending                 0.771        False                16   \n",
       "4       similar_users                 0.251        False                 9   \n",
       "\n",
       "  device_type time_of_day algorithm_version  \n",
       "0      Tablet     evening              v1.4  \n",
       "1      Mobile     evening              v1.4  \n",
       "2      Tablet     evening              v1.4  \n",
       "3      Mobile     evening              v1.2  \n",
       "4      Tablet     evening              v1.3  "
      ]
     },
     "execution_count": 2,
     "metadata": {},
     "output_type": "execute_result"
    }
   ],
   "source": [
    "# Base \n",
    "df_recomendacao = pd.read_csv('recommendation_logs.csv')\n",
    "df_recomendacao.head()"
   ]
  },
  {
   "cell_type": "code",
   "execution_count": 3,
   "id": "4658d9a1",
   "metadata": {},
   "outputs": [
    {
     "name": "stdout",
     "output_type": "stream",
     "text": [
      "<class 'pandas.core.frame.DataFrame'>\n",
      "RangeIndex: 52000 entries, 0 to 51999\n",
      "Data columns (total 11 columns):\n",
      " #   Column                Non-Null Count  Dtype  \n",
      "---  ------                --------------  -----  \n",
      " 0   recommendation_id     52000 non-null  object \n",
      " 1   user_id               52000 non-null  object \n",
      " 2   movie_id              52000 non-null  object \n",
      " 3   recommendation_date   52000 non-null  object \n",
      " 4   recommendation_type   52000 non-null  object \n",
      " 5   recommendation_score  46784 non-null  float64\n",
      " 6   was_clicked           52000 non-null  bool   \n",
      " 7   position_in_list      52000 non-null  int64  \n",
      " 8   device_type           52000 non-null  object \n",
      " 9   time_of_day           52000 non-null  object \n",
      " 10  algorithm_version     49380 non-null  object \n",
      "dtypes: bool(1), float64(1), int64(1), object(8)\n",
      "memory usage: 4.0+ MB\n"
     ]
    },
    {
     "data": {
      "text/html": [
       "<div>\n",
       "<style scoped>\n",
       "    .dataframe tbody tr th:only-of-type {\n",
       "        vertical-align: middle;\n",
       "    }\n",
       "\n",
       "    .dataframe tbody tr th {\n",
       "        vertical-align: top;\n",
       "    }\n",
       "\n",
       "    .dataframe thead th {\n",
       "        text-align: right;\n",
       "    }\n",
       "</style>\n",
       "<table border=\"1\" class=\"dataframe\">\n",
       "  <thead>\n",
       "    <tr style=\"text-align: right;\">\n",
       "      <th></th>\n",
       "      <th>recommendation_score</th>\n",
       "      <th>position_in_list</th>\n",
       "    </tr>\n",
       "  </thead>\n",
       "  <tbody>\n",
       "    <tr>\n",
       "      <th>count</th>\n",
       "      <td>46784.000000</td>\n",
       "      <td>52000.000000</td>\n",
       "    </tr>\n",
       "    <tr>\n",
       "      <th>mean</th>\n",
       "      <td>0.551509</td>\n",
       "      <td>10.519365</td>\n",
       "    </tr>\n",
       "    <tr>\n",
       "      <th>std</th>\n",
       "      <td>0.260019</td>\n",
       "      <td>5.764500</td>\n",
       "    </tr>\n",
       "    <tr>\n",
       "      <th>min</th>\n",
       "      <td>0.100000</td>\n",
       "      <td>1.000000</td>\n",
       "    </tr>\n",
       "    <tr>\n",
       "      <th>25%</th>\n",
       "      <td>0.327000</td>\n",
       "      <td>6.000000</td>\n",
       "    </tr>\n",
       "    <tr>\n",
       "      <th>50%</th>\n",
       "      <td>0.553000</td>\n",
       "      <td>11.000000</td>\n",
       "    </tr>\n",
       "    <tr>\n",
       "      <th>75%</th>\n",
       "      <td>0.776000</td>\n",
       "      <td>16.000000</td>\n",
       "    </tr>\n",
       "    <tr>\n",
       "      <th>max</th>\n",
       "      <td>1.000000</td>\n",
       "      <td>20.000000</td>\n",
       "    </tr>\n",
       "  </tbody>\n",
       "</table>\n",
       "</div>"
      ],
      "text/plain": [
       "       recommendation_score  position_in_list\n",
       "count          46784.000000      52000.000000\n",
       "mean               0.551509         10.519365\n",
       "std                0.260019          5.764500\n",
       "min                0.100000          1.000000\n",
       "25%                0.327000          6.000000\n",
       "50%                0.553000         11.000000\n",
       "75%                0.776000         16.000000\n",
       "max                1.000000         20.000000"
      ]
     },
     "execution_count": 3,
     "metadata": {},
     "output_type": "execute_result"
    }
   ],
   "source": [
    "# Analise Descritiva\n",
    "\n",
    "df_recomendacao.info()\n",
    "df_recomendacao.describe()"
   ]
  },
  {
   "cell_type": "markdown",
   "id": "162a585a",
   "metadata": {},
   "source": [
    "### Pré-processamento & features"
   ]
  },
  {
   "cell_type": "code",
   "execution_count": 4,
   "id": "774ba22f",
   "metadata": {},
   "outputs": [],
   "source": [
    "#remove IDs\n",
    "df_recomendacao = df_recomendacao.drop(['recommendation_id', 'user_id', 'movie_id'], axis=1)"
   ]
  },
  {
   "cell_type": "code",
   "execution_count": 5,
   "id": "f9a67dc5",
   "metadata": {},
   "outputs": [
    {
     "data": {
      "text/plain": [
       "recommendation_date        0\n",
       "recommendation_type        0\n",
       "recommendation_score    5216\n",
       "was_clicked                0\n",
       "position_in_list           0\n",
       "device_type                0\n",
       "time_of_day                0\n",
       "algorithm_version       2620\n",
       "dtype: int64"
      ]
     },
     "execution_count": 5,
     "metadata": {},
     "output_type": "execute_result"
    }
   ],
   "source": [
    "# Valores Nulos\n",
    "df_recomendacao.isnull().sum()"
   ]
  },
  {
   "cell_type": "code",
   "execution_count": 6,
   "id": "bea26a09",
   "metadata": {},
   "outputs": [
    {
     "data": {
      "text/plain": [
       "recommendation_date     0\n",
       "recommendation_type     0\n",
       "recommendation_score    0\n",
       "was_clicked             0\n",
       "position_in_list        0\n",
       "device_type             0\n",
       "time_of_day             0\n",
       "algorithm_version       0\n",
       "dtype: int64"
      ]
     },
     "execution_count": 6,
     "metadata": {},
     "output_type": "execute_result"
    }
   ],
   "source": [
    "# Tratamento de Valores Nulos\n",
    "df_recomendacao = df_recomendacao.dropna()\n",
    "\n",
    "df_recomendacao.isnull().sum()"
   ]
  },
  {
   "cell_type": "code",
   "execution_count": 7,
   "id": "3b7e5762",
   "metadata": {},
   "outputs": [],
   "source": [
    "# # Classificação\n",
    "\n",
    "# X = df_recomendacao[['position_in_list', 'device_type', 'time_of_day', 'algorithm_version', 'recommendation_type']]\n",
    "# Y = df_recomendacao[['was_clicked']]\n",
    "\n",
    "# # One-Hot Encoding\n",
    "# X = pd.get_dummies(X, columns=['device_type', 'time_of_day', 'algorithm_version', 'recommendation_type'], drop_first=True)\n",
    "# X.head()    "
   ]
  },
  {
   "cell_type": "markdown",
   "id": "1017a91a",
   "metadata": {},
   "source": [
    "### Coluna Target e treinamento / teste"
   ]
  },
  {
   "cell_type": "code",
   "execution_count": 8,
   "id": "4c22c216",
   "metadata": {},
   "outputs": [
    {
     "name": "stdout",
     "output_type": "stream",
     "text": [
      "(26655, 7) (8885, 7) (8886, 7)\n"
     ]
    }
   ],
   "source": [
    "target_col = 'was_clicked'\n",
    "df = df_recomendacao.copy()\n",
    "\n",
    "df = df.dropna(subset=[target_col]).copy()\n",
    "df[target_col] = df[target_col].astype(int)\n",
    "\n",
    "# Definir features \n",
    "feature_cols = [c for c in df.columns if c != target_col]\n",
    "\n",
    "# Teste / Validacao / Treino\n",
    "train_df, test_df = train_test_split(\n",
    "    df, test_size=0.20, random_state=42, stratify=df[target_col]\n",
    ")\n",
    "train_df, val_df = train_test_split(\n",
    "    train_df, test_size=0.25, random_state=42, stratify=train_df[target_col] \n",
    ")\n",
    "\n",
    "# X/Y\n",
    "X_train, y_train = train_df[feature_cols], train_df[target_col].astype(int).values\n",
    "X_val,   y_val   = val_df[feature_cols],   val_df[target_col].astype(int).values\n",
    "X_test,  y_test  = test_df[feature_cols],  test_df[target_col].astype(int).values\n",
    "\n",
    "print(X_train.shape, X_val.shape, X_test.shape)"
   ]
  },
  {
   "cell_type": "markdown",
   "id": "6507cfd3",
   "metadata": {},
   "source": [
    "### Selecao dos algoritmos"
   ]
  },
  {
   "cell_type": "code",
   "execution_count": 9,
   "id": "7cdc6de5",
   "metadata": {},
   "outputs": [],
   "source": [
    "\n",
    "RANDOM_STATE = 42\n",
    "\n",
    "grids = {\n",
    "    \"LogReg\": (\n",
    "        LogisticRegression(\n",
    "            solver=\"saga\",\n",
    "            max_iter=400,\n",
    "            class_weight=\"balanced\",\n",
    "            random_state=RANDOM_STATE\n",
    "        ),\n",
    "        {\n",
    "            \"C\": [0.1, 1.0, 10.0],          \n",
    "            \"penalty\": [\"l2\"],              \n",
    "            \"fit_intercept\": [True, False] \n",
    "        }\n",
    "    ),\n",
    "    \"RandomForest\": (\n",
    "        RandomForestClassifier(random_state=RANDOM_STATE, n_jobs=-1),\n",
    "        {\n",
    "            \"n_estimators\": [300, 600, 900],   \n",
    "            \"max_depth\": [None, 20],           \n",
    "            \"min_samples_leaf\": [1, 5]         \n",
    "        }\n",
    "    ),\n",
    "    \"HistGB\": (\n",
    "        HistGradientBoostingClassifier(random_state=RANDOM_STATE),\n",
    "        {\n",
    "            \"learning_rate\": [0.05, 0.1, 0.2], \n",
    "            \"max_depth\": [None, 8, 12],        \n",
    "            \"max_leaf_nodes\": [31, 63]         \n",
    "        }\n",
    "    ),\n",
    "    \"GB\": (\n",
    "        GradientBoostingClassifier(random_state=RANDOM_STATE),\n",
    "        {\n",
    "            \"n_estimators\": [200, 400],        \n",
    "            \"learning_rate\": [0.05, 0.1],      \n",
    "            \"max_depth\": [3, 5]                \n",
    "        }\n",
    "    )\n",
    "}\n"
   ]
  }
 ],
 "metadata": {
  "kernelspec": {
   "display_name": "base",
   "language": "python",
   "name": "python3"
  },
  "language_info": {
   "codemirror_mode": {
    "name": "ipython",
    "version": 3
   },
   "file_extension": ".py",
   "mimetype": "text/x-python",
   "name": "python",
   "nbconvert_exporter": "python",
   "pygments_lexer": "ipython3",
   "version": "3.12.7"
  }
 },
 "nbformat": 4,
 "nbformat_minor": 5
}

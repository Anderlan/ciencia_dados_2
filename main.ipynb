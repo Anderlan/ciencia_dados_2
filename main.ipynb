{
 "cells": [
  {
   "cell_type": "code",
   "execution_count": null,
   "id": "448ffccf",
   "metadata": {},
   "outputs": [
    {
     "name": "stdout",
     "output_type": "stream",
     "text": [
      "Pasta base: c:\\Dev\\ciencia_dados_2\\\n",
      "Pasta do banco de dados: c:\\Dev\\ciencia_dados_2\\database\\\n"
     ]
    }
   ],
   "source": [
    "import os\n",
    "\n",
    "file_path = os.path.abspath(os.getcwd()) + os.sep\n",
    "print(f'Pasta do projeto: {file_path}')\n",
    "\n",
    "data_base_path = file_path + 'database' + os.sep\n",
    "print(f'Pasta do banco de dados: {data_base_path}')"
   ]
  }
 ],
 "metadata": {
  "kernelspec": {
   "display_name": ".venv (3.12.10)",
   "language": "python",
   "name": "python3"
  },
  "language_info": {
   "codemirror_mode": {
    "name": "ipython",
    "version": 3
   },
   "file_extension": ".py",
   "mimetype": "text/x-python",
   "name": "python",
   "nbconvert_exporter": "python",
   "pygments_lexer": "ipython3",
   "version": "3.12.10"
  }
 },
 "nbformat": 4,
 "nbformat_minor": 5
}
